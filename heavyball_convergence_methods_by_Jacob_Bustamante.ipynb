{
 "cells": [
  {
   "cell_type": "code",
   "execution_count": 2,
   "id": "c00e9fd4-8fbf-49f7-b436-5411f14d65db",
   "metadata": {},
   "outputs": [
    {
     "ename": "Schyeah",
     "evalue": "No module named 'numpy'",
     "output_type": "error",
     "traceback": [
      "\u001b[31m---------------------------------------------------------------------------\u001b[39m",
      "\u001b[31mModuleNotFoundError\u001b[39m                       Traceback (most recent call last)",
      "\u001b[36mCell\u001b[39m\u001b[36m \u001b[39m\u001b[32mIn[2]\u001b[39m\u001b[32m, line 1\u001b[39m\n\u001b[32m----> \u001b[39m\u001b[32m1\u001b[39m \u001b[38;5;28;01mimport\u001b[39;00m\u001b[38;5;250m \u001b[39m\u001b[34;01mnumpy\u001b[39;00m\u001b[38;5;250m \u001b[39m\u001b[38;5;28;01mas\u001b[39;00m\u001b[38;5;250m \u001b[39m\u001b[34;01mnp\u001b[39;00m\n\u001b[32m      2\u001b[39m \u001b[38;5;28;01mfrom\u001b[39;00m\u001b[38;5;250m \u001b[39m\u001b[34;01mnumpy\u001b[39;00m\u001b[34;01m.\u001b[39;00m\u001b[34;01mlinalg\u001b[39;00m\u001b[38;5;250m \u001b[39m\u001b[38;5;28;01mimport\u001b[39;00m norm, solve, multi_dot, eigvals\n\u001b[32m      3\u001b[39m \u001b[38;5;28;01mimport\u001b[39;00m\u001b[38;5;250m \u001b[39m\u001b[34;01mmatplotlib\u001b[39;00m\u001b[34;01m.\u001b[39;00m\u001b[34;01mpyplot\u001b[39;00m\u001b[38;5;250m \u001b[39m\u001b[38;5;28;01mas\u001b[39;00m\u001b[38;5;250m \u001b[39m\u001b[34;01mplt\u001b[39;00m\n",
      "\u001b[31mModuleNotFoundError\u001b[39m: No module named 'numpy'"
     ]
    }
   ],
   "source": [
    "import numpy as np\n",
    "from numpy.linalg import norm, solve, multi_dot, eigvals\n",
    "import matplotlib.pyplot as plt"
   ]
  },
  {
   "cell_type": "code",
   "execution_count": null,
   "id": "a6fa8a1c-d4c3-4e60-8a69-307e4eb616ab",
   "metadata": {},
   "outputs": [],
   "source": [
    "def f(x):\n",
    "    return 100 * (x[1] - x[0]**2)**2 + (1 - x[0])**2\n",
    "\n",
    "def Df(x):\n",
    "    dx1 = -400 * x[0] * (x[1] - x[0]**2) + 2 * (x[0] - 1)\n",
    "    dx2 = 200 * (x[1] - x[0]**2)\n",
    "    return np.array([dx1, dx2])\n",
    "\n",
    "def D2f(x):\n",
    "    dx1dx1 = 1200 * x[0]**2 - 400 * x[1] + 2\n",
    "    dx1dx2 = -400 * x[0]\n",
    "    dx2dx2 = 200\n",
    "    return np.array([[dx1dx1, dx1dx2], [dx1dx2, dx2dx2]])"
   ]
  },
  {
   "cell_type": "code",
   "execution_count": null,
   "id": "3e96ccb0-ccb8-451a-95af-64d20b84acc5",
   "metadata": {},
   "outputs": [],
   "source": [
    "def compute_alpha_beta(x, D2f):\n",
    "    e_vals = np.linalg.eigvals(D2f(x))\n",
    "    lambda_min, lambda_max = np.min(e_vals), np.max(e_vals)\n",
    "    if (lambda_min >= 0) and (lambda_max >= 0):\n",
    "        alpha = 4 / (np.sqrt(lambda_min) + np.sqrt(lambda_max))**2\n",
    "        beta = ((np.sqrt(lambda_min) - np.sqrt(lambda_max))**2 / (np.sqrt(lambda_min) + np.sqrt(lambda_max))**2)\n",
    "        return alpha, beta\n",
    "    return 1e-3, 0.9"
   ]
  },
  {
   "cell_type": "code",
   "execution_count": null,
   "id": "bda8f1ae-e762-40ee-8712-0632ea23b536",
   "metadata": {},
   "outputs": [],
   "source": [
    " # Settings for heavy ball method\n",
    " \"\"\"\n",
    " @description: heavy ball method\n",
    " @parameters :\n",
    "    @f    : objective function  \n",
    "    @Df: gradient of objective function\n",
    "    @D2f: hessian of objective function\n",
    "    @x0         : starting point \n",
    "    @tol\n",
    "        :\n",
    " tolerace for stopping criteria \n",
    "    @maxIter    : maximum iteration for stopping criteria\n",
    " \"\"\"\n",
    "\n",
    " def heavyBall_default(f, Df, D2f, x0, alpha0, tol, maxIter):\n",
    "    path      = [x0]\n",
    "    grad_norms = [norm(f(x0))]                           \n",
    "    k         = 0\n",
    "    xk        = x0    \n",
    "    pk        = -Df(xk)\n",
    "    alpha = alpha0 # variable initial step length\n",
    "    beta  = 0.9  # large initial heavy ball\n",
    "    # Compute the first step separately. \n",
    "    if norm(pk) < tol:\n",
    "        return xk, 0, path, grad_norms\n",
    "    else:\n",
    "        k = k + 1\n",
    "        xk = xk + alpha * pk \n",
    "        path.append(xk)\n",
    "        grad_norms.append(norm(f(xk)))\n",
    "    # The rest of iterations\n",
    "    pk = -Df(xk)\n",
    "    while norm(pk) > tol and k <= maxIter: \n",
    "        xk  = xk + alpha * pk + beta * (xk - path[-2])\n",
    "        pk  = -Df(xk)\n",
    "        k   = k + 1\n",
    "        path.append(xk)\n",
    "        grad_norms.append(norm(f(xk)))\n",
    "        alpha, beta = compute_alpha_beta(xk, D2f)\n",
    "    path = np.array(path)\n",
    "    if norm(pk) <= tol:\n",
    "        print(\"Found the minimizer at {x} with {iter} iterations successfully, gradient's norm is {nrm}.\".format(x=xk,iter=k,nrm=norm(pk)))\n",
    "    else:\n",
    "        print(\"Unable to locate minimizer within maximum iterations, last position is at {x}, gradient's norm is {nrm}\".format(x=xk,nrm=norm(pk)))\n",
    "    return xk, k, path, grad_norms"
   ]
  },
  {
   "cell_type": "code",
   "execution_count": null,
   "id": "44c6cc5f-d487-4973-aeac-fb2c3f7f28ad",
   "metadata": {},
   "outputs": [],
   "source": [
    "# FletcherReeves' Heavy Ball method\n",
    "def heavyBall_FletcherReeves(f, Df, x0, alpha0, tol, maxIter):\n",
    "    path = [x0]\n",
    "    grad_norms = [norm(Df(x0))]\n",
    "    k = 0\n",
    "    xk = x0    \n",
    "    pk = -Df(xk)\n",
    "    alpha = alpha0  # variable initial step length\n",
    "    \n",
    "    if norm(pk) < tol:\n",
    "        return xk, k, path, grad_norms\n",
    "    else:\n",
    "        k = k + 1\n",
    "        xk_1 = xk + alpha * pk \n",
    "        path.append(xk_1)\n",
    "        grad_norms.append(norm(Df(xk_1)))\n",
    "    \n",
    "    while norm(Df(xk_1)) > tol and k <= maxIter:\n",
    "        beta_k = (norm(Df(xk_1))**2) / (norm(Df(xk))**2)\n",
    "        xk, xk_1 = xk_1, xk_1 + alpha * (-Df(xk_1)) + beta_k * (xk_1 - xk)\n",
    "        k += 1\n",
    "        path.append(xk_1)\n",
    "        grad_norms.append(norm(Df(xk_1)))\n",
    "    path = np.array(path)\n",
    "    if norm(Df(xk_1)) <= tol:\n",
    "        print(\"Found the minimizer at {x} with {iter} iterations successfully, gradient's norm is {nrm}.\".format(x=xk,iter=k,nrm=norm(pk)))\n",
    "    else:\n",
    "        print(\"Unable to locate minimizer within maximum iterations, last position is at {x}, gradient's norm is {nrm}\".format(x=xk,nrm=norm(pk)))\n",
    "    return xk_1, k, path, grad_norms\n"
   ]
  },
  {
   "cell_type": "code",
   "execution_count": null,
   "id": "7fb0a99a-28b3-4d13-b27c-8b65ecf1df97",
   "metadata": {},
   "outputs": [
    {
     "ename": "NameError",
     "evalue": "name 'np' is not defined",
     "output_type": "error",
     "traceback": [
      "\u001b[0;31m---------------------------------------------------------------------------\u001b[0m",
      "\u001b[0;31mNameError\u001b[0m                                 Traceback (most recent call last)",
      "Cell \u001b[0;32mIn[1], line 1\u001b[0m\n\u001b[0;32m----> 1\u001b[0m x0 \u001b[38;5;241m=\u001b[39m \u001b[43mnp\u001b[49m\u001b[38;5;241m.\u001b[39marray([\u001b[38;5;241m1.2\u001b[39m, \u001b[38;5;241m1.2\u001b[39m]) \u001b[38;5;66;03m# Harder to converge \u001b[39;00m\n\u001b[1;32m      2\u001b[0m tol \u001b[38;5;241m=\u001b[39m \u001b[38;5;241m1e-11\u001b[39m \n\u001b[1;32m      3\u001b[0m maxIter \u001b[38;5;241m=\u001b[39m \u001b[38;5;241m1e6\u001b[39m \n",
      "\u001b[0;31mNameError\u001b[0m: name 'np' is not defined"
     ]
    }
   ],
   "source": [
    "x0 = np.array([1.2, 1.2]) # Harder to converge \n",
    "tol = 1e-11 \n",
    "maxIter = 1e6 \n",
    "alpha0 = 1e-3"
   ]
  },
  {
   "cell_type": "code",
   "execution_count": null,
   "id": "30e3fd1e-d754-47e0-a5b4-162e8ebcb685",
   "metadata": {},
   "outputs": [
    {
     "name": "stdout",
     "output_type": "stream",
     "text": [
      "Found the minimizer at [1. 1.] with 1695 iterations successfully, gradient's norm is 9.38661231763681e-12.\n"
     ]
    }
   ],
   "source": [
    "x_default, iter_default, path_default, grad_norms_default = heavyBall_default(f, Df, D2f, x0, alpha0, tol, maxIter) "
   ]
  },
  {
   "cell_type": "code",
   "execution_count": null,
   "id": "a7869f58-0bb0-4743-a1d4-898385258ec2",
   "metadata": {},
   "outputs": [
    {
     "name": "stdout",
     "output_type": "stream",
     "text": [
      "Found the minimizer at [1. 1.] with 1123 iterations successfully, gradient's norm is 229.16928240931418.\n"
     ]
    }
   ],
   "source": [
    "x_FletcherReeves, iter_FletcherReeves, path_FletcherReeves, grad_norms_FletcherReeves = heavyBall_FletcherReeves(f, Df, x0, alpha0, tol, maxIter)"
   ]
  },
  {
   "cell_type": "code",
   "execution_count": null,
   "id": "b6c9f2c2-1c66-45b3-9273-7df832f1154d",
   "metadata": {},
   "outputs": [
    {
     "ename": "NameError",
     "evalue": "name 'grad_norms_default' is not defined",
     "output_type": "error",
     "traceback": [
      "\u001b[0;31m---------------------------------------------------------------------------\u001b[0m",
      "\u001b[0;31mNameError\u001b[0m                                 Traceback (most recent call last)",
      "Cell \u001b[0;32mIn[3], line 10\u001b[0m\n\u001b[1;32m      8\u001b[0m     plt\u001b[38;5;241m.\u001b[39mgrid(\u001b[38;5;28;01mTrue\u001b[39;00m)\n\u001b[1;32m      9\u001b[0m     plt\u001b[38;5;241m.\u001b[39mshow()\n\u001b[0;32m---> 10\u001b[0m plot_heavyBall(\u001b[38;5;124m\"\u001b[39m\u001b[38;5;124mHeavy Ball\u001b[39m\u001b[38;5;124m\"\u001b[39m, \u001b[43mgrad_norms_default\u001b[49m)\n\u001b[1;32m     11\u001b[0m plot_heavyBall(\u001b[38;5;124m\"\u001b[39m\u001b[38;5;124mFletcher-Reeves Adaptive Heavy Ball\u001b[39m\u001b[38;5;124m\"\u001b[39m, grad_norms_FletcherReeves)\n",
      "\u001b[0;31mNameError\u001b[0m: name 'grad_norms_default' is not defined"
     ]
    }
   ],
   "source": [
    "def plot_heavyBall(method, grad_norms):\n",
    "    plt.figure(figsize=(8, 6))\n",
    "    plt.plot(range(len(grad_norms)), grad_norms)\n",
    "    plt.yscale(\"log\")\n",
    "    plt.xlabel(\"Iteration Number\")\n",
    "    plt.ylabel(\"Norm of Gradient (log scale)\")\n",
    "    plt.title(f\"Convergence of {method} Method\")\n",
    "    plt.grid(True)\n",
    "    plt.show()\n",
    "plot_heavyBall(\"Heavy Ball\", grad_norms_default)\n",
    "plot_heavyBall(\"Fletcher-Reeves Adaptive Heavy Ball\", grad_norms_FletcherReeves)"
   ]
  },
  {
   "cell_type": "code",
   "execution_count": null,
   "id": "521f1c52-fb6e-4cf8-bfca-c829b620a24b",
   "metadata": {},
   "outputs": [],
   "source": []
  }
 ],
 "metadata": {
  "kernelspec": {
   "display_name": "Python 3",
   "language": "python",
   "name": "python3"
  },
  "language_info": {
   "codemirror_mode": {
    "name": "ipython",
    "version": 3
   },
   "file_extension": ".py",
   "mimetype": "text/x-python",
   "name": "python",
   "nbconvert_exporter": "python",
   "pygments_lexer": "ipython3",
   "version": "3.11.9"
  }
 },
 "nbformat": 4,
 "nbformat_minor": 5
}
